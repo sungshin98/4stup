{
 "cells": [
  {
   "cell_type": "code",
   "execution_count": 1,
   "id": "83042704",
   "metadata": {},
   "outputs": [],
   "source": [
    "import numpy as np\n",
    "import pandas as pd\n",
    "\n",
    "from datetime import datetime, timedelta\n",
    "from sklearn.preprocessing import MinMaxScaler"
   ]
  },
  {
   "cell_type": "code",
   "execution_count": 4,
   "id": "9d2d5d60",
   "metadata": {},
   "outputs": [],
   "source": [
    "def scale_csv(csv_file_path):\n",
    "    df_test = pd.read_csv(csv_file_path, index_col=0)\n",
    "    \n",
    "    #index가 정렬되어있지 않아서- 다시 reset후 드랍\n",
    "    df_test.reset_index(inplace=True)\n",
    "    df_test.drop(['index'], inplace=True, axis=1)\n",
    "    \n",
    "    #IBI가 null이 아닌 값만 추출\n",
    "    df_IBI = df_test['IBI'].dropna()\n",
    "    \n",
    "    df_CT = df_test['Current Time']\n",
    "    \n",
    "    #필요없는 컬럼 삭제 및 원핫인코딩 부분 따로 추출\n",
    "    df_test.drop(['Current Time', 'Segment ID', 'Emotion', 'Valance', 'Arousal'],inplace=True, axis=1)\n",
    "    df_encoded = pd.get_dummies(df_test['Status'])\n",
    "    df_test.drop(\"Status\", inplace=True, axis=1)\n",
    "    \n",
    "    #정규화 과정(원래 데이터 프레임 + IBI 정규화)\n",
    "    scaler = MinMaxScaler()\n",
    "    df_test_scaled = scaler.fit_transform(df_test)\n",
    "    df_test_scaled = pd.DataFrame(df_test_scaled, columns=df_test.columns)\n",
    "    \n",
    "    df_IBI_scaled = scaler.fit_transform(df_IBI.values.reshape(-1, 1))\n",
    "    df_IBI_scaled = pd.DataFrame(df_IBI_scaled, columns=['IBI'], index=df_IBI.index)\n",
    "    \n",
    "    #IBI의 인덱스 추출한 부분에 다시 넣기\n",
    "    df_test_scaled.loc[df_IBI.index, 'IBI'] = df_IBI_scaled.values.flatten()\n",
    "    \n",
    "    # df_test와 df_encoded 합치기\n",
    "    new_df = pd.concat([df_test_scaled, df_encoded], axis=1)\n",
    "    new_df = pd.concat([new_df, df_CT], axis=1)\n",
    "    \n",
    "    # 'IBI'컬럼을 마지막으로 이동\n",
    "    col = list(new_df.columns)\n",
    "    col.remove('IBI')\n",
    "    last_col = new_df.pop('IBI')\n",
    "    new_df.insert(len(col), 'IBI', last_col)\n",
    "    new_df.columns = col + ['IBI']\n",
    "    \n",
    "    #인덱스를 datetime값으로 변경\n",
    "    new_df['Current Time'] = pd.to_datetime(new_df['Current Time'], format='%Y-%m%d-%H%M-%S-%f')\n",
    "    \n",
    "    # 새로운 csv 파일로 저장\n",
    "    new_file_path = os.path.join(os.path.dirname(os.path.dirname(csv_file_path)), f\"{os.path.splitext(os.path.basename(csv_file_path))[0]}_scaled.csv\")\n",
    "    new_df.to_csv(new_file_path)\n",
    "    \n",
    "    return new_df"
   ]
  },
  {
   "cell_type": "markdown",
   "id": "503cead4",
   "metadata": {},
   "source": [
    "## "
   ]
  }
 ],
 "metadata": {
  "kernelspec": {
   "display_name": "Python 3 (ipykernel)",
   "language": "python",
   "name": "python3"
  },
  "language_info": {
   "codemirror_mode": {
    "name": "ipython",
    "version": 3
   },
   "file_extension": ".py",
   "mimetype": "text/x-python",
   "name": "python",
   "nbconvert_exporter": "python",
   "pygments_lexer": "ipython3",
   "version": "3.9.13"
  }
 },
 "nbformat": 4,
 "nbformat_minor": 5
}
