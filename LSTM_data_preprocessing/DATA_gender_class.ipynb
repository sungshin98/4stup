{
 "cells": [
  {
   "cell_type": "code",
   "execution_count": 10,
   "id": "370faca1",
   "metadata": {},
   "outputs": [],
   "source": [
    "import os\n",
    "import pandas as pd\n",
    "\n",
    "def add_gender_columns(csv_path):\n",
    "    # 파일 이름에서 성별을 추출\n",
    "    filename = os.path.splitext(os.path.basename(csv_path))[0]\n",
    "    gender = 'M' if 'M' in filename else 'F'\n",
    "    \n",
    "    # CSV 파일\n",
    "    df = pd.read_csv(csv_path)\n",
    "    \n",
    "    # 성별 컬럼을 추가\n",
    "    df['M'] = 1 if gender == 'M' else 0\n",
    "    df['F'] = 1 if gender == 'F' else 0\n",
    "    \n",
    "    # 컬럼 순서를 조정\n",
    "    df = df[list(df.columns[:7]) + ['M', 'F'] + list(df.columns[7:-2])]\n",
    "    \n",
    "    # CSV 파일을 저장\n",
    "    parent_folder = os.path.dirname(os.path.dirname(csv_path))  # 두 번째 dirname() 함수를 추가하여 상위 폴더 경로를 가져옴\n",
    "    output_path = os.path.join(parent_folder, f'{filename}_gender.csv')\n",
    "    df.to_csv(output_path, index=False)\n",
    "    \n",
    "    return df"
   ]
  }
 ],
 "metadata": {
  "kernelspec": {
   "display_name": "Python 3 (ipykernel)",
   "language": "python",
   "name": "python3"
  },
  "language_info": {
   "codemirror_mode": {
    "name": "ipython",
    "version": 3
   },
   "file_extension": ".py",
   "mimetype": "text/x-python",
   "name": "python",
   "nbconvert_exporter": "python",
   "pygments_lexer": "ipython3",
   "version": "3.9.13"
  }
 },
 "nbformat": 4,
 "nbformat_minor": 5
}
