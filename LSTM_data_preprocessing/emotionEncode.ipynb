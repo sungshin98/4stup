{
 "cells": [
  {
   "cell_type": "code",
   "execution_count": 27,
   "id": "d804126f",
   "metadata": {},
   "outputs": [],
   "source": [
    "import numpy as np\n",
    "import pandas as pd\n",
    "\n",
    "\n",
    "from sklearn.preprocessing import MinMaxScaler"
   ]
  },
  {
   "cell_type": "code",
   "execution_count": 28,
   "id": "ccbe626c",
   "metadata": {},
   "outputs": [],
   "source": [
    "def sep_multiemo(df) :\n",
    "    for idx,emo in enumerate(df['Emotion']): #df의 Emotion 칼럼을 다 뽑기\n",
    "            if not isinstance(emo,float):\n",
    "                emo_sep = emo.split(sep = ';')[0]\n",
    "                df.loc[idx, 'Emotion'] = emo_sep               \n",
    "    return df       "
   ]
  },
  {
   "cell_type": "code",
   "execution_count": 29,
   "id": "67e69556",
   "metadata": {},
   "outputs": [],
   "source": [
    "def app_emo(df) :\n",
    "    emo_lis = ['neutral', 'happy', 'sad', 'surprise', 'disqust','fear','angry']\n",
    "    for emo in emo_lis:\n",
    "        if emo not in df.columns:\n",
    "            df[emo] = 0\n",
    "    #컬럼 순서 재 설정\n",
    "    df = df.reindex(columns=['neutral', 'happy', 'sad', 'surprise', 'disqust','fear','angry'], index= df.index)\n",
    "    return df"
   ]
  },
  {
   "cell_type": "code",
   "execution_count": 30,
   "id": "30840426",
   "metadata": {},
   "outputs": [],
   "source": [
    "def scale_encode_csv(csv_file_path1, csv_file_path2):\n",
    "    #감정이 들어있는 파일열어서 null이 없는 emotion컬럼 추출\n",
    "    df_ori = pd.read_csv(csv_file_path1, index_col = 0)\n",
    "    \n",
    "    #index가 정렬되어있지 않아서- 다시 reset후 드랍\n",
    "    df_ori.reset_index(inplace=True)\n",
    "    df_ori.drop(['index'], inplace=True, axis=1)\n",
    "    \n",
    "    df_del = sep_multiemo(df_ori)\n",
    "    df_emo = df_ori['Emotion'].dropna()\n",
    "    \n",
    "    #감정 부분 원핫 인코딩\n",
    "    df_enco = pd.get_dummies(df_emo)  \n",
    "   # df_app = app_emo(df_enco)\n",
    "\n",
    "   \n",
    "    #IBI채운 파일 열어서 time과 상태부분 따로 빼놓기\n",
    "    df_all = pd.read_csv(csv_file_path2, index_col = 0)\n",
    "    new_df = df_all.loc[df_ori['Emotion'].notnull(), df_all.columns]\n",
    "\n",
    "    new_df = pd.concat([new_df, df_enco], axis=1)#df_app\n",
    "    \n",
    "    #index가 정렬되어있지 않아서- 다시 reset후 드랍\n",
    "    new_df.reset_index(inplace=True)\n",
    "    new_df.drop(['index'], inplace=True, axis=1)\n",
    "    \n",
    "    #새로운 csv파일로 저장\n",
    "    new_file_path = os.path.join(os.path.dirname(os.path.dirname(csv_file_path1)), f\"{os.path.splitext(os.path.basename(csv_file_path1))[0]}_new.csv\")\n",
    "    new_df.to_csv(new_file_path)\n",
    "    \n",
    "    return new_df\n",
    "    "
   ]
  },
  {
   "cell_type": "code",
   "execution_count": 58,
   "id": "f6d564c9",
   "metadata": {},
   "outputs": [],
   "source": [
    "import os\n",
    "\n",
    "def app_emo_csv(csv_path) :\n",
    "    df = pd.read_csv(csv_path)\n",
    "    emo_lis = ['neutral', 'happy', 'sad', 'surprise', 'disqust','fear','angry']\n",
    "    for emo in emo_lis:\n",
    "        if emo not in df.columns:\n",
    "            df[emo] = 0\n",
    "    #컬럼 순서 재 설정\n",
    "    df = df.reindex(columns=['EDA','TEMP','listen','stay','talk','Current Time','IBI','neutral', 'happy', 'sad', 'surprise', 'disqust','fear','angry'], index= df.index)\n",
    "    \n",
    "    new_file_path = os.path.join(os.path.dirname(os.path.dirname(csv_path)), f\"{os.path.splitext(os.path.basename(csv_path))[0]}_emo.csv\")\n",
    "    df.to_csv(new_file_path)\n",
    "    \n",
    "    return df\n"
   ]
  }
 ],
 "metadata": {
  "kernelspec": {
   "display_name": "Python 3 (ipykernel)",
   "language": "python",
   "name": "python3"
  },
  "language_info": {
   "codemirror_mode": {
    "name": "ipython",
    "version": 3
   },
   "file_extension": ".py",
   "mimetype": "text/x-python",
   "name": "python",
   "nbconvert_exporter": "python",
   "pygments_lexer": "ipython3",
   "version": "3.9.13"
  }
 },
 "nbformat": 4,
 "nbformat_minor": 5
}
